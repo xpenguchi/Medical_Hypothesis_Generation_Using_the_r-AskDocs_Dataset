{
 "cells": [
  {
   "cell_type": "code",
   "execution_count": null,
   "metadata": {
    "colab": {
     "base_uri": "https://localhost:8080/"
    },
    "executionInfo": {
     "elapsed": 386,
     "status": "ok",
     "timestamp": 1740806229845,
     "user": {
      "displayName": "Wu Yusen",
      "userId": "17509584824346972025"
     },
     "user_tz": 360
    },
    "id": "nlCfHQEZHzSz",
    "outputId": "6fe1cfac-fc35-48d2-d3c7-b3c65a1d3275"
   },
   "outputs": [
    {
     "name": "stdout",
     "output_type": "stream",
     "text": [
      "Drive already mounted at /content/drive; to attempt to forcibly remount, call drive.mount(\"/content/drive\", force_remount=True).\n"
     ]
    }
   ],
   "source": [
    "from google.colab import drive\n",
    "drive.mount('/content/drive')\n",
    "\n",
    "import os\n",
    "os.chdir('/content/drive/MyDrive/nlp_final_proj')\n",
    "\n",
    "!pip install together\n",
    "from together import Together\n",
    "# Here we use together_ai's api_key\n",
    "client = Together(api_key=\"\")"
   ]
  },
  {
   "cell_type": "code",
   "execution_count": 6,
   "metadata": {
    "colab": {
     "base_uri": "https://localhost:8080/"
    },
    "executionInfo": {
     "elapsed": 12874,
     "status": "ok",
     "timestamp": 1740806633242,
     "user": {
      "displayName": "Wu Yusen",
      "userId": "17509584824346972025"
     },
     "user_tz": 360
    },
    "id": "m8P6qa_XIdxL",
    "outputId": "4c5122cc-9e3e-403f-d330-c8d4331b8193"
   },
   "outputs": [
    {
     "name": "stderr",
     "output_type": "stream",
     "text": [
      "Uploading file fine_tuning_train_data.jsonl: 100%|██████████| 46.4M/46.4M [00:02<00:00, 21.3MB/s]\n",
      "Uploading file fine_tuning_test_data.jsonl: 100%|██████████| 13.1M/13.1M [00:00<00:00, 21.5MB/s]\n"
     ]
    },
    {
     "name": "stdout",
     "output_type": "stream",
     "text": [
      "{'id': 'file-c0735e0d-b7bf-4e65-871c-1385d783ddbb', 'object': <ObjectType.File: 'file'>, 'created_at': 1740806624, 'type': None, 'purpose': <FilePurpose.FineTune: 'fine-tune'>, 'filename': 'fine_tuning_train_data.jsonl', 'bytes': 0, 'line_count': 0, 'processed': False, 'FileType': 'jsonl'}\n",
      "{'id': 'file-315f3389-7945-43be-b32f-c2ce62f67a89', 'object': <ObjectType.File: 'file'>, 'created_at': 1740806630, 'type': None, 'purpose': <FilePurpose.FineTune: 'fine-tune'>, 'filename': 'fine_tuning_test_data.jsonl', 'bytes': 0, 'line_count': 0, 'processed': False, 'FileType': 'jsonl'}\n"
     ]
    }
   ],
   "source": [
    "train_file_resp = client.files.upload(file=\"data/fine_tuning_train_data.jsonl\", check=True)\n",
    "test_file_resp = client.files.upload(file=\"data/fine_tuning_test_data.jsonl\", check=True)\n",
    "better_train_file_resp = client.files.upload(file=\"/content/drive/MyDrive/nlp_final_proj/data/fine_tuning_better_train_data.jsonl\", check=True)\n",
    "\n",
    "\n",
    "print(train_file_resp.model_dump())\n",
    "print(test_file_resp.model_dump())\n",
    "print(better_train_file_resp.model_dump())"
   ]
  },
  {
   "cell_type": "code",
   "execution_count": 13,
   "metadata": {
    "colab": {
     "base_uri": "https://localhost:8080/"
    },
    "executionInfo": {
     "elapsed": 3339,
     "status": "ok",
     "timestamp": 1740812714065,
     "user": {
      "displayName": "Wu Yusen",
      "userId": "17509584824346972025"
     },
     "user_tz": 360
    },
    "id": "gOEnxOoALAGe",
    "outputId": "d0a4b645-daa4-4cab-d5b9-ed4fb0d9fb6d"
   },
   "outputs": [
    {
     "name": "stdout",
     "output_type": "stream",
     "text": [
      "id='ft-097c1410-064d' training_file='file-eff2a4f0-ee7a-4cca-9b43-9fa365a2b77f' validation_file='file-315f3389-7945-43be-b32f-c2ce62f67a89' model='meta-llama/Llama-3.3-70B-Instruct-Reference' output_name='RayNG123/Llama-3.3-70B-Instruct-Reference-better_full_train_data_lora-de316671' adapter_output_name=None n_epochs=4 n_checkpoints=4 n_evals=30 batch_size=8 learning_rate=1e-05 lr_scheduler=FinetuneLRScheduler(lr_scheduler_type='linear', lr_scheduler_args=FinetuneLinearLRSchedulerArgs(min_lr_ratio=0.0)) warmup_ratio=0.0 max_grad_norm=1.0 weight_decay=0.0 eval_steps=0 training_type=LoRATrainingType(type='Lora', lora_r=64, lora_alpha=128, lora_dropout=0.0, lora_trainable_modules='all-linear') created_at='2025-03-01T07:05:13.799Z' updated_at='2025-03-01T07:05:13.799Z' status=<FinetuneJobStatus.STATUS_PENDING: 'pending'> job_id='' events=[FinetuneEvent(object=<ObjectType.FinetuneEvent: 'fine-tune-event'>, created_at='2025-03-01T07:05:13.799Z', level=<FinetuneEventLevels.NULL: ''>, message='Fine tune request created', type=<FinetuneEventType.JOB_PENDING: 'JOB_PENDING'>, param_count=0, token_count=0, wandb_url='', hash='', eval_token_count=0, total_steps=0, step=0, checkpoint_path='', model_path='', adapter_path='', training_offset=0, byoa_model_name='')] token_count=0 param_count=0 total_price=0 total_steps=0 steps_completed=0 epochs_completed=0 evals_completed=0 queue_depth=0 wandb_base_url='' wandb_project_name='' wandb_name='' wandb_url='' training_file_num_lines=0 training_file_size=15634001 train_on_inputs='auto' suffix='better_full_train_data_lora' staring_epoch=0 training_offset=0 random_seed='null' enable_checkpoints=False max_steps=-1 save_steps=0 warmup_steps=0 validation_split_ratio=0 gpus_per_node=8 per_device_batch_size=0 per_device_eval_batch_size=0 gradient_accumulation_steps=1 wandb_key='07dca34495e6a1a16ce87749baa6001e405eac10' model_output_path='s3://together-dev/finetune/67892727db2232f21e2af249/RayNG123/Llama-3.3-70B-Instruct-Reference-better_full_train_data_lora-de316671/ft-097c1410-064d' adapter_output_path='s3://together-dev/finetune/67892727db2232f21e2af249/RayNG123/Llama-3.3-70B-Instruct-Reference-better_full_train_data_lora-de316671/ft-097c1410-064d_adapter' user_id='67892727db2232f21e2af249' checkspoint_path='' owner_address='0xcc76096324c1e24e032de1b7de8a75cca0251ef3' eval_token_count=0 steps_paid_for=0 train_price=0 eval_price=0 evals_paid_for=0 checkpoints=[] internal_flags='' UsedModelName='' job_stats={'FtUserTime': '', 'FtSysTime': '', 'FtMaxRss': 0, 'FtMinPgFlt': 0, 'FtMajPgFlt': 0, 'FtInBlock': 0, 'FtOutBlock': 0, 'FtNvCsw': 0, 'FtNivCsw': 0} refund_amount=0 continued_checkpoint='' merge_parent_adapter=False parent_ft_id='' try_byoa_upload=True\n"
     ]
    }
   ],
   "source": [
    "response = client.fine_tuning.create(\n",
    "  model = 'meta-llama/Llama-3.3-70B-Instruct-Reference',\n",
    "  wandb_api_key = \"07dca34495e6a1a16ce87749baa6001e405eac10\",\n",
    "  training_file = better_train_file_resp.id,\n",
    "  validation_file = test_file_resp.id,\n",
    "  lora = True,\n",
    "  suffix = \"better_full_train_data_lora\",\n",
    "  n_evals = 30,\n",
    "  n_checkpoints = 4,\n",
    "  n_epochs = 4\n",
    ")\n",
    "\n",
    "print(response)"
   ]
  }
 ],
 "metadata": {
  "colab": {
   "authorship_tag": "ABX9TyMakpgLnJUTCT6dcIvSP8xS",
   "provenance": []
  },
  "kernelspec": {
   "display_name": "Python 3",
   "name": "python3"
  },
  "language_info": {
   "name": "python"
  }
 },
 "nbformat": 4,
 "nbformat_minor": 0
}
